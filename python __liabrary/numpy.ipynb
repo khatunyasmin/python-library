{
 "cells": [
  {
   "cell_type": "markdown",
   "metadata": {},
   "source": [
    "# Creating Arrays"
   ]
  },
  {
   "cell_type": "code",
   "execution_count": 35,
   "metadata": {},
   "outputs": [
    {
     "name": "stdout",
     "output_type": "stream",
     "text": [
      "[0 1 2 3]\n",
      "[0 1 2 3 4 5 6 7 8 9]\n"
     ]
    }
   ],
   "source": [
    "import numpy as np\n",
    "a = np.array([0,1,2,3])\n",
    "print(a)\n",
    "print(np.arange(10))"
   ]
  },
  {
   "cell_type": "markdown",
   "metadata": {},
   "source": [
    "## Arrays are faster than lists."
   ]
  },
  {
   "cell_type": "markdown",
   "metadata": {},
   "source": [
    "# 0-D Array/Scalars"
   ]
  },
  {
   "cell_type": "code",
   "execution_count": 33,
   "metadata": {},
   "outputs": [
    {
     "name": "stdout",
     "output_type": "stream",
     "text": [
      "16\n"
     ]
    }
   ],
   "source": [
    "import numpy as np\n",
    "z = np.array(16)\n",
    "print(z)"
   ]
  },
  {
   "cell_type": "code",
   "execution_count": 6,
   "metadata": {},
   "outputs": [
    {
     "name": "stdout",
     "output_type": "stream",
     "text": [
      "206 µs ± 2.1 µs per loop (mean ± std. dev. of 7 runs, 1000 loops each)\n"
     ]
    }
   ],
   "source": [
    "L=range(1000)\n",
    "%timeit [i**2 for i in L]"
   ]
  },
  {
   "cell_type": "markdown",
   "metadata": {},
   "source": [
    "# 1D-array/Vectors/Unidimensional array"
   ]
  },
  {
   "cell_type": "code",
   "execution_count": 17,
   "metadata": {},
   "outputs": [
    {
     "data": {
      "text/plain": [
       "array([0, 1, 2, 3])"
      ]
     },
     "execution_count": 17,
     "metadata": {},
     "output_type": "execute_result"
    }
   ],
   "source": [
    "a = np.array([0,1,2,3])\n",
    "a"
   ]
  },
  {
   "cell_type": "code",
   "execution_count": 16,
   "metadata": {},
   "outputs": [
    {
     "data": {
      "text/plain": [
       "1"
      ]
     },
     "execution_count": 16,
     "metadata": {},
     "output_type": "execute_result"
    }
   ],
   "source": [
    "a.ndim # print dimentions"
   ]
  },
  {
   "cell_type": "code",
   "execution_count": 15,
   "metadata": {},
   "outputs": [
    {
     "data": {
      "text/plain": [
       "(4,)"
      ]
     },
     "execution_count": 15,
     "metadata": {},
     "output_type": "execute_result"
    }
   ],
   "source": [
    "a.shape # print shape"
   ]
  },
  {
   "cell_type": "code",
   "execution_count": 18,
   "metadata": {},
   "outputs": [
    {
     "data": {
      "text/plain": [
       "4"
      ]
     },
     "execution_count": 18,
     "metadata": {},
     "output_type": "execute_result"
    }
   ],
   "source": [
    "len(a)"
   ]
  },
  {
   "cell_type": "markdown",
   "metadata": {},
   "source": [
    "# 2-D array/Matrix"
   ]
  },
  {
   "cell_type": "code",
   "execution_count": 40,
   "metadata": {},
   "outputs": [
    {
     "data": {
      "text/plain": [
       "array([[0, 1, 2],\n",
       "       [3, 4, 6]])"
      ]
     },
     "execution_count": 40,
     "metadata": {},
     "output_type": "execute_result"
    }
   ],
   "source": [
    "b = np.array([[0,1,2],[3,4,6]])\n",
    "b"
   ]
  },
  {
   "cell_type": "code",
   "execution_count": 43,
   "metadata": {},
   "outputs": [
    {
     "data": {
      "text/plain": [
       "2"
      ]
     },
     "execution_count": 43,
     "metadata": {},
     "output_type": "execute_result"
    }
   ],
   "source": [
    "b.ndim"
   ]
  },
  {
   "cell_type": "code",
   "execution_count": 42,
   "metadata": {},
   "outputs": [
    {
     "data": {
      "text/plain": [
       "(2, 3)"
      ]
     },
     "execution_count": 42,
     "metadata": {},
     "output_type": "execute_result"
    }
   ],
   "source": [
    "b.shape"
   ]
  },
  {
   "cell_type": "code",
   "execution_count": 41,
   "metadata": {},
   "outputs": [
    {
     "data": {
      "text/plain": [
       "2"
      ]
     },
     "execution_count": 41,
     "metadata": {},
     "output_type": "execute_result"
    }
   ],
   "source": [
    "len(b)"
   ]
  },
  {
   "cell_type": "markdown",
   "metadata": {},
   "source": [
    "# 3-D array/Tensor"
   ]
  },
  {
   "cell_type": "code",
   "execution_count": 28,
   "metadata": {},
   "outputs": [
    {
     "data": {
      "text/plain": [
       "array([[[0, 1],\n",
       "        [2, 3]],\n",
       "\n",
       "       [[4, 5],\n",
       "        [6, 7]]])"
      ]
     },
     "execution_count": 28,
     "metadata": {},
     "output_type": "execute_result"
    }
   ],
   "source": [
    "c=np.array([[[0,1],[2,3]],[[4,5],[6,7]]])\n",
    "c           "
   ]
  },
  {
   "cell_type": "code",
   "execution_count": 15,
   "metadata": {},
   "outputs": [
    {
     "name": "stdout",
     "output_type": "stream",
     "text": [
      "[1 2 3]\n",
      "[[1]\n",
      " [2]\n",
      " [3]]\n"
     ]
    }
   ],
   "source": [
    "z=np.array([1,2,3])\n",
    "print(z)\n",
    "print(z[:,np.newaxis])"
   ]
  },
  {
   "cell_type": "code",
   "execution_count": 13,
   "metadata": {},
   "outputs": [
    {
     "name": "stdout",
     "output_type": "stream",
     "text": [
      "[ 0  1  2  3  4  5  6  7  8  9 10 11 12 13 14 15 16 17 18 19 20 21 22 23]\n",
      "(24,)\n"
     ]
    }
   ],
   "source": [
    "a=np.arange(4*3*2).reshape(4*3*2)\n",
    "print(a)\n",
    "b=a.shape\n",
    "print(b)"
   ]
  },
  {
   "cell_type": "code",
   "execution_count": 29,
   "metadata": {},
   "outputs": [
    {
     "data": {
      "text/plain": [
       "3"
      ]
     },
     "execution_count": 29,
     "metadata": {},
     "output_type": "execute_result"
    }
   ],
   "source": [
    "c.ndim"
   ]
  },
  {
   "cell_type": "code",
   "execution_count": 30,
   "metadata": {},
   "outputs": [
    {
     "data": {
      "text/plain": [
       "(2, 2, 2)"
      ]
     },
     "execution_count": 30,
     "metadata": {},
     "output_type": "execute_result"
    }
   ],
   "source": [
    "c.shape"
   ]
  },
  {
   "cell_type": "code",
   "execution_count": 31,
   "metadata": {},
   "outputs": [
    {
     "data": {
      "text/plain": [
       "2"
      ]
     },
     "execution_count": 31,
     "metadata": {},
     "output_type": "execute_result"
    }
   ],
   "source": [
    "len(c)"
   ]
  },
  {
   "cell_type": "markdown",
   "metadata": {},
   "source": [
    "# Reshape"
   ]
  },
  {
   "cell_type": "code",
   "execution_count": 2,
   "metadata": {},
   "outputs": [
    {
     "name": "stdout",
     "output_type": "stream",
     "text": [
      "[[[[[9.02407883e-01 3.65320267e-01 9.66611583e-01 1.88382437e-01\n",
      "     9.19856404e-01 6.51516019e-02]\n",
      "    [2.84353678e-01 6.56296225e-01 8.85899024e-01 9.48796783e-02\n",
      "     5.07318206e-01 7.57306249e-01]\n",
      "    [1.11720083e-01 6.86583086e-01 1.34129221e-01 2.15006922e-01\n",
      "     1.94784882e-01 1.45130444e-01]\n",
      "    [7.78665979e-01 5.97596453e-01 1.84794402e-01 4.62977669e-01\n",
      "     2.66278092e-01 2.63037453e-01]\n",
      "    [8.92516546e-01 6.37300452e-01 8.93690751e-02 9.19815871e-01\n",
      "     7.64716454e-02 5.75507715e-02]]\n",
      "\n",
      "   [[3.47371757e-01 4.51717291e-01 2.65107609e-01 3.26176697e-01\n",
      "     3.73937123e-02 7.91059219e-01]\n",
      "    [9.52836866e-01 6.73438426e-01 7.47024712e-01 3.90618603e-01\n",
      "     4.74289203e-01 1.64793789e-01]\n",
      "    [3.09352754e-01 6.39935693e-01 3.07045163e-01 2.48954348e-01\n",
      "     5.10195722e-01 7.57479806e-01]\n",
      "    [6.33738454e-01 3.41829219e-01 3.72826250e-01 5.09749995e-01\n",
      "     6.35771565e-01 6.29921846e-01]\n",
      "    [3.33339286e-01 6.84305570e-01 3.13585492e-01 8.11154212e-01\n",
      "     5.37547776e-01 9.57954308e-01]]\n",
      "\n",
      "   [[2.05642840e-01 7.11905650e-01 1.32259261e-01 3.64458648e-01\n",
      "     3.66437982e-01 9.01178742e-01]\n",
      "    [3.63490949e-01 4.33587588e-01 1.44572598e-01 8.56296082e-01\n",
      "     1.87595730e-01 6.25565077e-01]\n",
      "    [2.87400930e-01 6.10233857e-01 2.70341496e-01 7.94693744e-01\n",
      "     5.13846677e-02 4.49264551e-01]\n",
      "    [4.68500960e-01 8.68101055e-01 9.55104112e-01 1.07278626e-01\n",
      "     4.85085928e-01 8.02139588e-01]\n",
      "    [3.68145914e-01 3.86465733e-02 2.87919838e-01 5.48262850e-02\n",
      "     9.01373176e-01 5.29851289e-01]]\n",
      "\n",
      "   [[8.11794338e-02 9.76372611e-01 5.78176687e-01 8.41196696e-01\n",
      "     1.99397188e-01 6.51936962e-01]\n",
      "    [7.23762509e-01 9.51188168e-01 4.62065863e-01 5.18568861e-01\n",
      "     1.97221055e-01 5.04930059e-01]\n",
      "    [4.49500079e-01 3.14552112e-01 6.20140512e-01 2.92353851e-01\n",
      "     1.35911477e-02 2.33391715e-01]\n",
      "    [6.18362649e-01 4.48252723e-01 1.67548064e-01 3.53401426e-01\n",
      "     5.76284714e-01 2.79566148e-01]\n",
      "    [4.05437727e-01 1.95820272e-01 2.96764652e-01 3.01097242e-01\n",
      "     7.84042750e-01 3.76655510e-01]]]\n",
      "\n",
      "\n",
      "  [[[2.44236064e-01 2.84794901e-01 3.06892704e-01 5.40471804e-01\n",
      "     1.42928708e-01 5.38842151e-01]\n",
      "    [6.06014417e-01 3.95692992e-01 7.68535553e-02 6.10577720e-01\n",
      "     2.31505021e-01 2.69914101e-01]\n",
      "    [9.73971992e-01 4.95106583e-01 3.18381027e-01 9.73148195e-01\n",
      "     2.40582848e-01 6.67370630e-01]\n",
      "    [9.17958584e-01 3.11401731e-01 1.52812005e-01 8.69741054e-01\n",
      "     2.73180754e-01 4.68118665e-01]\n",
      "    [6.99915857e-01 2.04063828e-01 4.20033397e-01 8.23909837e-01\n",
      "     4.96447971e-01 3.70605412e-03]]\n",
      "\n",
      "   [[6.02762015e-01 8.61651608e-01 1.67879173e-01 8.24947852e-01\n",
      "     6.96729247e-01 5.06242119e-01]\n",
      "    [7.65502034e-01 1.82197864e-02 7.89492076e-02 3.35657800e-01\n",
      "     4.96562523e-02 2.57334962e-01]\n",
      "    [6.67500820e-01 9.29712504e-01 9.29418940e-01 4.99753649e-01\n",
      "     3.73383702e-01 7.04514634e-01]\n",
      "    [5.76362147e-01 5.93261467e-01 3.72205093e-01 1.32049747e-01\n",
      "     6.61239176e-01 6.26502510e-01]\n",
      "    [5.98948224e-01 8.50116321e-01 3.12487473e-01 5.64016050e-01\n",
      "     4.25512294e-01 6.35368707e-01]]\n",
      "\n",
      "   [[8.88897390e-01 6.24179005e-01 2.96894003e-01 9.61792639e-01\n",
      "     8.99015693e-02 7.56102812e-01]\n",
      "    [3.05118470e-01 2.59660977e-01 4.12326575e-01 2.30901029e-02\n",
      "     4.01795749e-01 2.26695753e-01]\n",
      "    [9.42143568e-01 5.60850576e-01 5.28860624e-01 8.06351666e-01\n",
      "     5.95278906e-01 9.17213627e-01]\n",
      "    [9.28953086e-01 7.78292849e-01 6.90053620e-01 2.74826072e-01\n",
      "     7.45438740e-02 4.20231681e-01]\n",
      "    [6.50143020e-01 2.17625290e-01 9.30843035e-01 7.63675038e-01\n",
      "     7.15755686e-01 4.71205096e-01]]\n",
      "\n",
      "   [[4.48738249e-01 2.52163623e-01 7.44306951e-01 5.62800853e-01\n",
      "     8.98320874e-01 6.01019715e-01]\n",
      "    [1.64410154e-01 7.55908659e-01 3.37020741e-01 6.83563284e-01\n",
      "     4.97115939e-01 6.09224017e-01]\n",
      "    [5.66538272e-01 7.73400968e-01 2.77670098e-01 9.07937176e-01\n",
      "     5.45991249e-01 5.84778645e-01]\n",
      "    [3.27686014e-01 1.95353287e-01 8.91522282e-01 5.89470010e-01\n",
      "     1.83754233e-01 4.02119143e-01]\n",
      "    [7.48508381e-01 5.91080411e-01 1.14388574e-01 3.60107226e-01\n",
      "     2.53314803e-01 9.18597043e-02]]]\n",
      "\n",
      "\n",
      "  [[[9.97828161e-01 5.21134833e-01 4.64124455e-01 8.42175920e-02\n",
      "     3.77026685e-01 2.30702478e-01]\n",
      "    [2.11604132e-01 8.42801302e-01 4.10627562e-01 2.74797519e-01\n",
      "     6.46476134e-02 3.15544931e-01]\n",
      "    [6.56855553e-01 6.12828086e-01 6.01924838e-01 3.51207636e-01\n",
      "     7.70593315e-01 8.30914659e-01]\n",
      "    [7.34474424e-01 6.00668919e-01 1.28402751e-01 9.03858620e-01\n",
      "     8.20028997e-01 6.45182369e-02]\n",
      "    [4.34904934e-01 2.03590136e-01 3.87913063e-01 7.02961881e-01\n",
      "     9.70057643e-02 1.56729937e-01]]\n",
      "\n",
      "   [[3.00656916e-01 5.07931431e-01 6.63860962e-02 9.02259618e-01\n",
      "     3.63536972e-02 5.63587817e-01]\n",
      "    [4.84006992e-01 9.87822741e-01 2.86337196e-01 4.45290378e-01\n",
      "     6.17377610e-01 9.56552582e-02]\n",
      "    [5.32629478e-01 2.23690460e-01 6.88864108e-01 1.56950129e-01\n",
      "     5.47147445e-01 5.88012772e-01]\n",
      "    [1.55010454e-02 8.96101571e-01 7.33656670e-01 7.76781197e-01\n",
      "     8.54754614e-01 2.79716638e-01]\n",
      "    [9.86232226e-02 6.08198469e-01 4.24969462e-01 7.41162701e-01\n",
      "     4.70075770e-01 6.87659884e-01]]\n",
      "\n",
      "   [[5.87303582e-01 6.03239866e-01 1.65269337e-02 2.77477289e-01\n",
      "     7.65132792e-01 7.45926086e-01]\n",
      "    [7.68667203e-01 4.58785225e-01 7.19284452e-01 4.43304782e-01\n",
      "     7.99281534e-01 5.90910890e-01]\n",
      "    [3.13504848e-01 7.68986895e-01 8.61470029e-01 3.18139057e-01\n",
      "     3.09675038e-01 9.86269004e-01]\n",
      "    [7.54898750e-01 8.26396349e-01 9.52533910e-01 1.31948879e-01\n",
      "     5.70030674e-01 1.46245534e-01]\n",
      "    [5.50995381e-01 4.23194650e-01 2.93324653e-01 3.71344967e-01\n",
      "     3.92695989e-02 1.16987072e-01]]\n",
      "\n",
      "   [[9.34060000e-01 8.08601438e-01 2.50227015e-01 7.67536832e-01\n",
      "     9.10163230e-01 2.23419254e-01]\n",
      "    [7.62883230e-01 4.99663824e-01 8.16610350e-01 6.67248283e-01\n",
      "     5.45057179e-02 4.58524848e-01]\n",
      "    [2.19828307e-01 4.65443062e-01 2.30941684e-01 5.47243814e-01\n",
      "     6.37871151e-01 9.23876889e-01]\n",
      "    [8.62566211e-01 2.09096844e-01 7.05655103e-01 3.44272313e-01\n",
      "     6.14969486e-01 5.66397867e-01]\n",
      "    [1.27176446e-01 1.02359589e-01 8.78606110e-01 2.19879051e-01\n",
      "     4.93217958e-01 7.32908543e-01]]]]\n",
      "\n",
      "\n",
      "\n",
      " [[[[7.51474230e-01 2.41933487e-01 3.76478579e-01 3.61781532e-01\n",
      "     2.04320772e-01 2.47792143e-01]\n",
      "    [3.61894371e-01 7.78005076e-01 8.76557768e-01 9.20077849e-01\n",
      "     3.62599311e-01 3.71454306e-01]\n",
      "    [6.60323042e-01 4.43055346e-01 7.37582713e-02 7.72713427e-01\n",
      "     3.36755973e-01 6.48853312e-01]\n",
      "    [7.78428237e-01 4.75638132e-01 8.16182442e-01 7.10340034e-01\n",
      "     3.83818963e-01 1.72579229e-01]\n",
      "    [5.14818405e-01 1.21593847e-01 6.94823209e-01 8.09232510e-01\n",
      "     1.99123507e-02 1.37183153e-01]]\n",
      "\n",
      "   [[3.98479450e-02 3.80187392e-01 1.69694680e-01 9.07995478e-01\n",
      "     6.82268204e-02 2.15538912e-01]\n",
      "    [8.71708985e-01 5.81445884e-01 7.57573086e-01 1.44726285e-01\n",
      "     7.01246623e-01 2.61646404e-01]\n",
      "    [5.07551115e-01 1.61947756e-01 5.11225062e-01 6.76075026e-01\n",
      "     9.57782382e-01 1.85443068e-01]\n",
      "    [5.61880603e-01 4.87917030e-01 1.88739662e-01 8.58725562e-01\n",
      "     2.10965876e-02 1.78118529e-01]\n",
      "    [6.86936645e-01 5.95511472e-01 3.70189845e-01 6.24100840e-01\n",
      "     9.71145791e-01 6.79969410e-02]]\n",
      "\n",
      "   [[1.40396425e-01 7.46907927e-01 7.22870084e-01 1.78958272e-01\n",
      "     4.75621346e-01 1.28853348e-01]\n",
      "    [9.48423976e-01 6.38848547e-01 8.15229457e-01 6.53980937e-01\n",
      "     4.35059440e-01 1.08374775e-02]\n",
      "    [3.04800149e-01 4.84839940e-01 7.10480347e-01 3.53646534e-01\n",
      "     1.44335170e-01 9.76099755e-02]\n",
      "    [6.88718845e-01 5.12443516e-01 8.98723672e-01 8.05051172e-01\n",
      "     2.95072582e-01 6.87982094e-01]\n",
      "    [2.00666404e-01 6.79636238e-02 5.22365333e-01 5.62866129e-01\n",
      "     9.34981866e-01 7.99417633e-01]]\n",
      "\n",
      "   [[5.34051756e-01 6.33563562e-01 8.28751533e-01 9.34009874e-01\n",
      "     1.79242869e-01 4.38205850e-01]\n",
      "    [5.24261783e-01 9.44994089e-01 9.03939274e-01 5.82101299e-01\n",
      "     4.36649665e-01 1.95741947e-02]\n",
      "    [9.85101073e-01 1.08709893e-01 1.68520982e-01 9.19562075e-01\n",
      "     9.89085546e-01 8.28387895e-01]\n",
      "    [6.27337669e-02 5.04822768e-01 1.72764842e-02 1.31805133e-01\n",
      "     4.22382091e-01 6.70930565e-01]\n",
      "    [3.72335391e-01 6.49749197e-01 7.77256608e-01 1.55989239e-01\n",
      "     8.81353620e-01 3.80513501e-01]]]\n",
      "\n",
      "\n",
      "  [[[4.61702741e-02 6.97543280e-01 7.68935030e-02 1.89461996e-01\n",
      "     8.37022423e-01 8.12255819e-01]\n",
      "    [2.93474437e-01 8.53991813e-01 8.28268095e-01 9.19525541e-01\n",
      "     5.65608978e-01 4.20555854e-01]\n",
      "    [1.47881790e-01 5.30522996e-01 8.10834951e-04 2.19475882e-01\n",
      "     6.69407541e-02 4.93907036e-01]\n",
      "    [3.37392516e-01 9.65070350e-01 4.01288011e-01 9.42033570e-01\n",
      "     9.68012573e-01 5.33433156e-02]\n",
      "    [2.75337951e-01 6.43675398e-01 5.37295274e-01 7.32496384e-01\n",
      "     6.79012013e-01 8.82735248e-01]]\n",
      "\n",
      "   [[5.84759205e-01 2.28213509e-01 3.00187355e-01 2.95879428e-01\n",
      "     6.55258346e-01 6.03834288e-01]\n",
      "    [8.88833395e-01 1.27868343e-01 3.04469477e-01 1.25286393e-01\n",
      "     8.76633745e-01 3.18072309e-01]\n",
      "    [5.35098471e-01 9.53464627e-01 3.38378779e-01 4.14602880e-01\n",
      "     4.77194053e-01 9.91646642e-01]\n",
      "    [5.43073438e-01 6.81522816e-01 1.41017822e-01 1.06497188e-01\n",
      "     6.78459046e-01 8.41727421e-01]\n",
      "    [5.97690556e-01 9.39899570e-01 6.78452768e-01 4.85618192e-01\n",
      "     4.75611597e-01 7.93302208e-01]]\n",
      "\n",
      "   [[5.80308172e-01 1.52500887e-01 4.07341825e-01 1.33960682e-01\n",
      "     5.81666211e-01 5.10570865e-01]\n",
      "    [2.40895294e-01 5.47305997e-01 6.84169154e-01 1.56383009e-01\n",
      "     8.56858069e-02 7.78436448e-01]\n",
      "    [9.05568304e-01 9.71354260e-01 3.51347885e-01 3.14072980e-01\n",
      "     8.91110023e-01 5.42463450e-01]\n",
      "    [5.72613797e-01 7.56688856e-01 6.92987172e-01 1.26427151e-01\n",
      "     9.92641129e-01 2.58809345e-01]\n",
      "    [6.11996568e-01 7.45079418e-01 3.30253879e-01 2.27548662e-02\n",
      "     4.07530494e-01 2.05159234e-01]]\n",
      "\n",
      "   [[2.00169667e-01 4.27823853e-01 4.82756808e-01 1.28667476e-01\n",
      "     3.29837589e-01 1.26886083e-01]\n",
      "    [8.02154565e-01 2.09715283e-01 5.33871479e-01 1.75909024e-01\n",
      "     6.23150763e-01 8.07668165e-01]\n",
      "    [3.93322362e-01 6.67959918e-01 4.89268185e-01 7.27732252e-01\n",
      "     1.72365757e-01 5.22367627e-01]\n",
      "    [5.15989201e-01 3.75831122e-01 9.39935162e-01 7.24866387e-01\n",
      "     1.94654367e-01 6.00389367e-01]\n",
      "    [5.75464835e-01 4.54540621e-01 9.39458685e-02 8.58572879e-01\n",
      "     6.37342815e-01 6.82301630e-01]]]\n",
      "\n",
      "\n",
      "  [[[5.58709407e-01 6.34661053e-01 6.16714913e-01 2.25595672e-01\n",
      "     2.66681349e-01 1.26522873e-01]\n",
      "    [1.67432766e-01 6.72693034e-01 5.34438694e-01 1.59297180e-01\n",
      "     3.12510364e-01 3.80939752e-01]\n",
      "    [9.65873553e-01 9.10185375e-01 6.12557538e-01 8.56266650e-01\n",
      "     1.43377732e-01 1.27286727e-01]\n",
      "    [3.87152012e-01 3.72438907e-01 4.12189009e-01 3.52063408e-01\n",
      "     7.96389460e-01 4.91496349e-01]\n",
      "    [6.50794997e-01 8.18935178e-01 7.50381681e-02 2.79111930e-01\n",
      "     5.09172100e-01 7.65652059e-01]]\n",
      "\n",
      "   [[3.07488640e-04 9.94528091e-01 5.68536358e-01 7.04400133e-01\n",
      "     3.90187588e-01 9.72451352e-01]\n",
      "    [1.86973827e-01 9.27121081e-01 1.34593531e-01 8.82043856e-02\n",
      "     7.35843825e-01 6.78149358e-01]\n",
      "    [6.76131451e-01 8.02174519e-01 4.82319103e-01 7.62450690e-01\n",
      "     2.75457513e-02 8.82889394e-01]\n",
      "    [9.32682048e-01 7.14698170e-01 1.96055417e-01 5.94849447e-01\n",
      "     8.78812009e-01 7.15556891e-01]\n",
      "    [8.74705986e-01 3.28392861e-01 7.42142753e-01 9.16065470e-01\n",
      "     9.52742935e-01 1.32030365e-01]]\n",
      "\n",
      "   [[3.13513673e-02 5.28748970e-02 9.24245583e-01 5.21467896e-02\n",
      "     4.76136743e-01 9.16325706e-01]\n",
      "    [2.73792183e-01 4.68884097e-03 7.64424073e-01 6.61758600e-01\n",
      "     7.58690854e-01 3.37012298e-01]\n",
      "    [8.97978647e-01 7.23702414e-01 6.05603274e-01 8.29910863e-01\n",
      "     9.16005554e-01 4.05907910e-01]\n",
      "    [2.56530461e-01 4.40551012e-01 8.14032421e-01 9.92921610e-02\n",
      "     5.01794904e-01 1.81498945e-01]\n",
      "    [5.82938758e-01 1.84291699e-02 1.65015662e-01 4.44700500e-01\n",
      "     4.06180217e-01 1.71429391e-01]]\n",
      "\n",
      "   [[8.81654767e-01 7.66287825e-01 1.62152594e-01 9.20092482e-01\n",
      "     3.46669233e-01 4.98025780e-01]\n",
      "    [7.49516716e-01 1.32404121e-01 9.84929565e-01 9.10849893e-01\n",
      "     8.72860016e-01 7.93679338e-02]\n",
      "    [1.62276950e-01 7.16346218e-01 3.78167210e-01 7.94596583e-02\n",
      "     7.74047663e-01 8.19948113e-01]\n",
      "    [7.29157568e-01 9.89603519e-01 7.92727853e-01 5.84874378e-01\n",
      "     3.53634243e-01 1.93270118e-01]\n",
      "    [7.93977639e-01 1.71146530e-01 5.58212583e-02 1.19687425e-02\n",
      "     3.74454214e-02 5.06400917e-01]]]]]\n"
     ]
    }
   ],
   "source": [
    "import numpy as np\n",
    "\n",
    "# Create a 5-D array with random values\n",
    "array_5d = np.random.random((2, 3, 4, 5, 6))\n",
    "\n",
    "print(array_5d)\n"
   ]
  },
  {
   "cell_type": "code",
   "execution_count": 5,
   "metadata": {},
   "outputs": [
    {
     "name": "stdout",
     "output_type": "stream",
     "text": [
      "[  0   1   2   3   4   5   6   7   8   9  10  11  12  13  14  15  16  17\n",
      "  18  19  20  21  22  23  24  25  26  27  28  29  30  31  32  33  34  35\n",
      "  36  37  38  39  40  41  42  43  44  45  46  47  48  49  50  51  52  53\n",
      "  54  55  56  57  58  59  60  61  62  63  64  65  66  67  68  69  70  71\n",
      "  72  73  74  75  76  77  78  79  80  81  82  83  84  85  86  87  88  89\n",
      "  90  91  92  93  94  95  96  97  98  99 100 101 102 103 104 105 106 107\n",
      " 108 109 110 111 112 113 114 115 116 117 118 119]\n"
     ]
    },
    {
     "ename": "ValueError",
     "evalue": "cannot reshape array of size 120 into shape (5,2,3,4,2)",
     "output_type": "error",
     "traceback": [
      "\u001b[1;31m---------------------------------------------------------------------------\u001b[0m",
      "\u001b[1;31mValueError\u001b[0m                                Traceback (most recent call last)",
      "\u001b[1;32m<ipython-input-5-4001e22b3342>\u001b[0m in \u001b[0;36m<module>\u001b[1;34m\u001b[0m\n\u001b[0;32m      3\u001b[0m \u001b[0marray_5d\u001b[0m \u001b[1;33m=\u001b[0m \u001b[0mnp\u001b[0m\u001b[1;33m.\u001b[0m\u001b[0marange\u001b[0m\u001b[1;33m(\u001b[0m\u001b[1;36m120\u001b[0m\u001b[1;33m)\u001b[0m\u001b[1;33m\u001b[0m\u001b[1;33m\u001b[0m\u001b[0m\n\u001b[0;32m      4\u001b[0m \u001b[0mprint\u001b[0m\u001b[1;33m(\u001b[0m\u001b[0marray_5d\u001b[0m\u001b[1;33m)\u001b[0m\u001b[1;33m\u001b[0m\u001b[1;33m\u001b[0m\u001b[0m\n\u001b[1;32m----> 5\u001b[1;33m \u001b[0mb\u001b[0m \u001b[1;33m=\u001b[0m \u001b[0marray_5d\u001b[0m\u001b[1;33m.\u001b[0m\u001b[0mreshape\u001b[0m\u001b[1;33m(\u001b[0m\u001b[1;36m5\u001b[0m\u001b[1;33m,\u001b[0m \u001b[1;36m2\u001b[0m\u001b[1;33m,\u001b[0m \u001b[1;36m3\u001b[0m\u001b[1;33m,\u001b[0m \u001b[1;36m4\u001b[0m\u001b[1;33m,\u001b[0m \u001b[1;36m2\u001b[0m\u001b[1;33m)\u001b[0m\u001b[1;33m\u001b[0m\u001b[1;33m\u001b[0m\u001b[0m\n\u001b[0m\u001b[0;32m      6\u001b[0m \u001b[0mprint\u001b[0m\u001b[1;33m(\u001b[0m\u001b[0mb\u001b[0m\u001b[1;33m)\u001b[0m\u001b[1;33m\u001b[0m\u001b[1;33m\u001b[0m\u001b[0m\n",
      "\u001b[1;31mValueError\u001b[0m: cannot reshape array of size 120 into shape (5,2,3,4,2)"
     ]
    }
   ],
   "source": [
    "import numpy as np\n",
    "# Create a simple 5-D array\n",
    "array_5d = np.arange(120)\n",
    "print(array_5d)\n",
    "b = array_5d.reshape(5, 2, 3, 4, 2)\n",
    "print(b)"
   ]
  },
  {
   "cell_type": "markdown",
   "metadata": {},
   "source": [
    "# Flattening"
   ]
  },
  {
   "cell_type": "code",
   "execution_count": 4,
   "metadata": {},
   "outputs": [
    {
     "data": {
      "text/plain": [
       "array([1, 2, 3, 4, 5, 6])"
      ]
     },
     "execution_count": 4,
     "metadata": {},
     "output_type": "execute_result"
    }
   ],
   "source": [
    "import numpy as np\n",
    "n = np.array([[[1,2,3],[4,5,6]]])\n",
    "n.ravel()"
   ]
  },
  {
   "cell_type": "code",
   "execution_count": 5,
   "metadata": {},
   "outputs": [
    {
     "data": {
      "text/plain": [
       "array([[[1],\n",
       "        [4]],\n",
       "\n",
       "       [[2],\n",
       "        [5]],\n",
       "\n",
       "       [[3],\n",
       "        [6]]])"
      ]
     },
     "execution_count": 5,
     "metadata": {},
     "output_type": "execute_result"
    }
   ],
   "source": [
    "n.T"
   ]
  },
  {
   "cell_type": "markdown",
   "metadata": {},
   "source": [
    "# Reshaping"
   ]
  },
  {
   "cell_type": "code",
   "execution_count": 7,
   "metadata": {},
   "outputs": [
    {
     "data": {
      "text/plain": [
       "array([1, 4, 2, 5, 3, 6])"
      ]
     },
     "execution_count": 7,
     "metadata": {},
     "output_type": "execute_result"
    }
   ],
   "source": [
    "n.T.ravel()"
   ]
  },
  {
   "cell_type": "code",
   "execution_count": 8,
   "metadata": {},
   "outputs": [
    {
     "data": {
      "text/plain": [
       "array([1, 2, 3, 4, 5, 6])"
      ]
     },
     "execution_count": 8,
     "metadata": {},
     "output_type": "execute_result"
    }
   ],
   "source": [
    "b=n.ravel()\n",
    "b"
   ]
  },
  {
   "cell_type": "code",
   "execution_count": 9,
   "metadata": {},
   "outputs": [
    {
     "data": {
      "text/plain": [
       "array([[1, 2, 3],\n",
       "       [4, 5, 6]])"
      ]
     },
     "execution_count": 9,
     "metadata": {},
     "output_type": "execute_result"
    }
   ],
   "source": [
    "c=b.reshape((2,3))\n",
    "c"
   ]
  },
  {
   "cell_type": "code",
   "execution_count": null,
   "metadata": {},
   "outputs": [],
   "source": []
  },
  {
   "cell_type": "code",
   "execution_count": 33,
   "metadata": {},
   "outputs": [
    {
     "data": {
      "text/plain": [
       "array([1, 3, 5, 7, 9])"
      ]
     },
     "execution_count": 33,
     "metadata": {},
     "output_type": "execute_result"
    }
   ],
   "source": [
    "b=np.arange(1,10,2)\n",
    "b"
   ]
  },
  {
   "cell_type": "code",
   "execution_count": 35,
   "metadata": {},
   "outputs": [
    {
     "data": {
      "text/plain": [
       "array([0. , 0.2, 0.4, 0.6, 0.8, 1. ])"
      ]
     },
     "execution_count": 35,
     "metadata": {},
     "output_type": "execute_result"
    }
   ],
   "source": [
    "a=np.linspace(0,1,6)\n",
    "a"
   ]
  },
  {
   "cell_type": "code",
   "execution_count": 37,
   "metadata": {},
   "outputs": [
    {
     "data": {
      "text/plain": [
       "array([[1., 1., 1.],\n",
       "       [1., 1., 1.],\n",
       "       [1., 1., 1.]])"
      ]
     },
     "execution_count": 37,
     "metadata": {},
     "output_type": "execute_result"
    }
   ],
   "source": [
    "a=np.ones((3,3))\n",
    "a"
   ]
  },
  {
   "cell_type": "code",
   "execution_count": 40,
   "metadata": {},
   "outputs": [
    {
     "data": {
      "text/plain": [
       "array([[0., 0., 0.],\n",
       "       [0., 0., 0.],\n",
       "       [0., 0., 0.]])"
      ]
     },
     "execution_count": 40,
     "metadata": {},
     "output_type": "execute_result"
    }
   ],
   "source": [
    "a=np.zeros((3,3))\n",
    "a"
   ]
  },
  {
   "cell_type": "code",
   "execution_count": 42,
   "metadata": {},
   "outputs": [
    {
     "data": {
      "text/plain": [
       "array([[1., 0., 0.],\n",
       "       [0., 1., 0.],\n",
       "       [0., 0., 1.]])"
      ]
     },
     "execution_count": 42,
     "metadata": {},
     "output_type": "execute_result"
    }
   ],
   "source": [
    "c=np.eye(3)\n",
    "c"
   ]
  },
  {
   "cell_type": "code",
   "execution_count": 43,
   "metadata": {},
   "outputs": [
    {
     "data": {
      "text/plain": [
       "array([[1, 0, 0, 0],\n",
       "       [0, 2, 0, 0],\n",
       "       [0, 0, 3, 0],\n",
       "       [0, 0, 0, 4]])"
      ]
     },
     "execution_count": 43,
     "metadata": {},
     "output_type": "execute_result"
    }
   ],
   "source": [
    "a=np.diag([1,2,3,4])\n",
    "a"
   ]
  },
  {
   "cell_type": "code",
   "execution_count": 44,
   "metadata": {},
   "outputs": [
    {
     "data": {
      "text/plain": [
       "array([1, 2, 3, 4])"
      ]
     },
     "execution_count": 44,
     "metadata": {},
     "output_type": "execute_result"
    }
   ],
   "source": [
    "np.diag(a)"
   ]
  },
  {
   "cell_type": "code",
   "execution_count": 46,
   "metadata": {},
   "outputs": [
    {
     "data": {
      "text/plain": [
       "array([0.1631642 , 0.49830451, 0.89859239, 0.91492236])"
      ]
     },
     "execution_count": 46,
     "metadata": {},
     "output_type": "execute_result"
    }
   ],
   "source": [
    "a=np.random.rand(4)\n",
    "a"
   ]
  },
  {
   "cell_type": "code",
   "execution_count": 47,
   "metadata": {},
   "outputs": [
    {
     "data": {
      "text/plain": [
       "array([ 0.5457688 , -0.20820683,  1.15911777, -0.37863279])"
      ]
     },
     "execution_count": 47,
     "metadata": {},
     "output_type": "execute_result"
    }
   ],
   "source": [
    "a=np.random.randn(4)\n",
    "a"
   ]
  },
  {
   "cell_type": "code",
   "execution_count": 48,
   "metadata": {},
   "outputs": [
    {
     "data": {
      "text/plain": [
       "dtype('int32')"
      ]
     },
     "execution_count": 48,
     "metadata": {},
     "output_type": "execute_result"
    }
   ],
   "source": [
    "a=np.arange(10)\n",
    "a.dtype"
   ]
  },
  {
   "cell_type": "code",
   "execution_count": 50,
   "metadata": {},
   "outputs": [
    {
     "data": {
      "text/plain": [
       "array([0., 1., 2., 3., 4., 5., 6., 7., 8., 9.], dtype=float32)"
      ]
     },
     "execution_count": 50,
     "metadata": {},
     "output_type": "execute_result"
    }
   ],
   "source": [
    "a=np.arange(10,dtype='float32')\n",
    "a"
   ]
  },
  {
   "cell_type": "code",
   "execution_count": 51,
   "metadata": {},
   "outputs": [
    {
     "name": "stdout",
     "output_type": "stream",
     "text": [
      "[[0. 0. 0.]\n",
      " [0. 0. 0.]\n",
      " [0. 0. 0.]]\n"
     ]
    },
    {
     "data": {
      "text/plain": [
       "dtype('float64')"
      ]
     },
     "execution_count": 51,
     "metadata": {},
     "output_type": "execute_result"
    }
   ],
   "source": [
    "a=np.zeros((3,3))\n",
    "print(a)\n",
    "a.dtype"
   ]
  },
  {
   "cell_type": "code",
   "execution_count": 52,
   "metadata": {},
   "outputs": [
    {
     "name": "stdout",
     "output_type": "stream",
     "text": [
      "complex128\n"
     ]
    }
   ],
   "source": [
    "d=np.array([1+2j,2+4j])\n",
    "print(d.dtype)"
   ]
  },
  {
   "cell_type": "code",
   "execution_count": 54,
   "metadata": {},
   "outputs": [
    {
     "name": "stdout",
     "output_type": "stream",
     "text": [
      "bool\n"
     ]
    }
   ],
   "source": [
    "b=np.array([True,False,False,True])\n",
    "#b.dtype\n",
    "print(b.dtype)"
   ]
  },
  {
   "cell_type": "code",
   "execution_count": 55,
   "metadata": {},
   "outputs": [
    {
     "data": {
      "text/plain": [
       "dtype('<U6')"
      ]
     },
     "execution_count": 55,
     "metadata": {},
     "output_type": "execute_result"
    }
   ],
   "source": [
    "s=np.array(['Ram','Robert','Rahim'])\n",
    "s.dtype"
   ]
  },
  {
   "cell_type": "markdown",
   "metadata": {},
   "source": [
    "# Indexing"
   ]
  },
  {
   "cell_type": "code",
   "execution_count": 44,
   "metadata": {},
   "outputs": [
    {
     "name": "stdout",
     "output_type": "stream",
     "text": [
      "0\n",
      "1\n",
      "2\n",
      "3\n",
      "4\n",
      "5\n",
      "6\n",
      "7\n",
      "8\n",
      "9\n",
      "5\n"
     ]
    }
   ],
   "source": [
    "#indexing\n",
    "a=np.arange(10)\n",
    "for i in a:\n",
    "    print(i)\n",
    "print(a[5])"
   ]
  },
  {
   "cell_type": "code",
   "execution_count": 60,
   "metadata": {},
   "outputs": [
    {
     "data": {
      "text/plain": [
       "array([[1, 0, 0],\n",
       "       [0, 2, 0],\n",
       "       [0, 0, 3]])"
      ]
     },
     "execution_count": 60,
     "metadata": {},
     "output_type": "execute_result"
    }
   ],
   "source": [
    "a=np.diag([1,2,3])\n",
    "a\n",
    "#print(a[2,2])"
   ]
  },
  {
   "cell_type": "code",
   "execution_count": 61,
   "metadata": {},
   "outputs": [
    {
     "data": {
      "text/plain": [
       "array([[1, 0, 0],\n",
       "       [0, 2, 0],\n",
       "       [0, 5, 3]])"
      ]
     },
     "execution_count": 61,
     "metadata": {},
     "output_type": "execute_result"
    }
   ],
   "source": [
    "a[2,1]=5 #assigning value\n",
    "a"
   ]
  },
  {
   "cell_type": "markdown",
   "metadata": {},
   "source": [
    "# $\\color{green}{\\text{Slicing}}$ "
   ]
  },
  {
   "cell_type": "code",
   "execution_count": 26,
   "metadata": {},
   "outputs": [
    {
     "name": "stdout",
     "output_type": "stream",
     "text": [
      "[0 1 2 3 4 5 6 7 8 9]\n",
      "Slicing from backward direction --> [5 4 3 2]\n",
      "[6 7]\n"
     ]
    }
   ],
   "source": [
    "#slicing\n",
    "a=np.arange(10)\n",
    "print(a)\n",
    "print(\"Slicing from backward direction -->\",a[-5:-9:-1])\n",
    "print(a[-4:-2])"
   ]
  },
  {
   "cell_type": "code",
   "execution_count": 64,
   "metadata": {},
   "outputs": [
    {
     "data": {
      "text/plain": [
       "array([1, 3, 5, 7])"
      ]
     },
     "execution_count": 64,
     "metadata": {},
     "output_type": "execute_result"
    }
   ],
   "source": [
    "a[1:8:2]"
   ]
  },
  {
   "cell_type": "code",
   "execution_count": 65,
   "metadata": {},
   "outputs": [
    {
     "data": {
      "text/plain": [
       "array([ 0,  1,  2,  3,  4, 10, 10, 10, 10, 10])"
      ]
     },
     "execution_count": 65,
     "metadata": {},
     "output_type": "execute_result"
    }
   ],
   "source": [
    "#assignment & slicing\n",
    "a=np.arange(10)\n",
    "a[5:]=10 #change values to 10 from 5th element to last\n",
    "a"
   ]
  },
  {
   "cell_type": "code",
   "execution_count": 66,
   "metadata": {},
   "outputs": [
    {
     "data": {
      "text/plain": [
       "array([0, 1, 2, 3, 4, 4, 3, 2, 1, 0])"
      ]
     },
     "execution_count": 66,
     "metadata": {},
     "output_type": "execute_result"
    }
   ],
   "source": [
    "#assigning\n",
    "b=np.arange(5)\n",
    "a[5:]=b[::-1]\n",
    "print(a)\n"
   ]
  },
  {
   "cell_type": "code",
   "execution_count": 84,
   "metadata": {},
   "outputs": [
    {
     "name": "stdout",
     "output_type": "stream",
     "text": [
      "(6,)\n",
      "1\n",
      "[9 3 4]\n",
      "5\n",
      "[[5 9 3]\n",
      " [4 6 1]]\n",
      "[5 9 3 4 6 1]\n",
      "[ 2  3  4  5  6  7  8  9 10]\n",
      "shape (9,)\n",
      "[[[ 2  3  4]\n",
      "  [ 5  6  7]\n",
      "  [ 8  9 10]]]\n",
      "[[[ 2  3  4]\n",
      "  [ 5  6  7]\n",
      "  [ 8  9 10]]]\n"
     ]
    }
   ],
   "source": [
    "p1= np.array([5,9,3,4,6,1])\n",
    "print(p1.shape)\n",
    "print(p1.ndim)\n",
    "\n",
    "print(p1[1:4])\n",
    "\n",
    "print(p1[0])\n",
    "\n",
    "s=p1.reshape(2,3)\n",
    "print(s)\n",
    "\n",
    "f=s.ravel()\n",
    "print(f)\n",
    "\n",
    "p4= np.arange(2,11)\n",
    "print(p4)\n",
    "print(\"shape\",p4.shape)\n",
    "re=p4.reshape(1,3,3)\n",
    "print(re)\n",
    "\n",
    "ek = np.arange(2,11).reshape(1,3,3)\n",
    "print(ek)\n"
   ]
  },
  {
   "cell_type": "code",
   "execution_count": 88,
   "metadata": {},
   "outputs": [
    {
     "name": "stdout",
     "output_type": "stream",
     "text": [
      "None\n"
     ]
    }
   ],
   "source": [
    "r1=np.arange(5)\n",
    "res=r1.resize((11,))\n",
    "print(res)"
   ]
  },
  {
   "cell_type": "markdown",
   "metadata": {},
   "source": [
    "# Arithmetic Operations"
   ]
  },
  {
   "cell_type": "code",
   "execution_count": 93,
   "metadata": {},
   "outputs": [
    {
     "name": "stdout",
     "output_type": "stream",
     "text": [
      "Add: [ 8 10 12 14]\n",
      "Subtract: [0 0 0 0]\n",
      "Divide: [1. 1. 1. 1.]\n",
      "Multiply: [16 25 36 49]\n",
      "Exponent: [   256   3125  46656 823543]\n",
      "[2.         2.23606798 2.44948974 2.64575131]\n"
     ]
    }
   ],
   "source": [
    "x=np.array([4,5,6,7])\n",
    "y=np.array([4,5,6,7])\n",
    "print(\"Add:\",x+y)\n",
    "print(\"Subtract:\",x-y)\n",
    "print(\"Divide:\",x/y)\n",
    "print(\"Multiply:\",x*y)\n",
    "print(\"Exponent:\",x**y)\n",
    "print(np.sqrt(x))"
   ]
  },
  {
   "cell_type": "code",
   "execution_count": null,
   "metadata": {},
   "outputs": [],
   "source": []
  },
  {
   "cell_type": "code",
   "execution_count": 115,
   "metadata": {},
   "outputs": [
    {
     "name": "stdout",
     "output_type": "stream",
     "text": [
      "[[2 3]\n",
      " [4 5]]\n",
      "[[6 7]\n",
      " [8 9]]\n",
      "-----------------\n",
      "Multiply: [[12 21]\n",
      " [32 45]]\n",
      "-----------------\n",
      "[[36 41]\n",
      " [64 73]]\n",
      "[[36 41]\n",
      " [64 73]]\n",
      "-----------------\n",
      "[14 16]\n",
      "[13 17]\n"
     ]
    }
   ],
   "source": [
    "r2 = np.array([[2,3],[4,5]])\n",
    "print(r2)\n",
    "r3 = np.array([[6,7],[8,9]])\n",
    "print(r3)\n",
    "print(\"-----------------\")\n",
    "print(\"Multiply:\",r2*r3)\n",
    "print(\"-----------------\")\n",
    "print(r2.dot(r3))\n",
    "print(np.dot(r2,r3))\n",
    "print(\"-----------------\")\n",
    "# print(r2.sum(r3))\n",
    "# print(np.sum(r2,r3))\n",
    "\n",
    "r4 = np.array([[6,7],[8,9]])\n",
    "print(np.sum(r4, axis=0)) #column-wise\n",
    "print(np.sum(r4, axis=1)) #row-wise"
   ]
  },
  {
   "cell_type": "code",
   "execution_count": null,
   "metadata": {},
   "outputs": [],
   "source": []
  },
  {
   "cell_type": "markdown",
   "metadata": {},
   "source": [
    "# Copy & Views"
   ]
  },
  {
   "cell_type": "code",
   "execution_count": 68,
   "metadata": {},
   "outputs": [
    {
     "data": {
      "text/plain": [
       "array([0, 1, 2, 3, 4, 5, 6, 7, 8, 9])"
      ]
     },
     "execution_count": 68,
     "metadata": {},
     "output_type": "execute_result"
    }
   ],
   "source": [
    "#copy & views\n",
    "a=np.arange(10)\n",
    "a"
   ]
  },
  {
   "cell_type": "code",
   "execution_count": 69,
   "metadata": {},
   "outputs": [
    {
     "data": {
      "text/plain": [
       "array([0, 2, 4, 6, 8])"
      ]
     },
     "execution_count": 69,
     "metadata": {},
     "output_type": "execute_result"
    }
   ],
   "source": [
    "b=a[::2]\n",
    "b"
   ]
  },
  {
   "cell_type": "code",
   "execution_count": 70,
   "metadata": {},
   "outputs": [
    {
     "data": {
      "text/plain": [
       "True"
      ]
     },
     "execution_count": 70,
     "metadata": {},
     "output_type": "execute_result"
    }
   ],
   "source": [
    "np.shares_memory(a,b)"
   ]
  },
  {
   "cell_type": "code",
   "execution_count": 71,
   "metadata": {},
   "outputs": [
    {
     "data": {
      "text/plain": [
       "array([10,  2,  4,  6,  8])"
      ]
     },
     "execution_count": 71,
     "metadata": {},
     "output_type": "execute_result"
    }
   ],
   "source": [
    "b[0]=10\n",
    "b"
   ]
  },
  {
   "cell_type": "code",
   "execution_count": 72,
   "metadata": {},
   "outputs": [
    {
     "data": {
      "text/plain": [
       "array([0, 2, 4, 6, 8])"
      ]
     },
     "execution_count": 72,
     "metadata": {},
     "output_type": "execute_result"
    }
   ],
   "source": [
    "a=np.arange(10)\n",
    "c=a[::2].copy()\n",
    "c"
   ]
  },
  {
   "cell_type": "code",
   "execution_count": 73,
   "metadata": {},
   "outputs": [
    {
     "data": {
      "text/plain": [
       "False"
      ]
     },
     "execution_count": 73,
     "metadata": {},
     "output_type": "execute_result"
    }
   ],
   "source": [
    "np.shares_memory(a,c)"
   ]
  },
  {
   "cell_type": "code",
   "execution_count": 75,
   "metadata": {},
   "outputs": [
    {
     "data": {
      "text/plain": [
       "array([0, 1, 2, 3, 4, 5, 6, 7, 8, 9])"
      ]
     },
     "execution_count": 75,
     "metadata": {},
     "output_type": "execute_result"
    }
   ],
   "source": [
    "c[0]=10\n",
    "a"
   ]
  },
  {
   "cell_type": "markdown",
   "metadata": {},
   "source": [
    "# Mask\n",
    "## Fancy Indexing"
   ]
  },
  {
   "cell_type": "code",
   "execution_count": 59,
   "metadata": {},
   "outputs": [
    {
     "name": "stdout",
     "output_type": "stream",
     "text": [
      "[17 11  9 11  8  8 11  3  4  2 19 14 17 13  5]\n",
      "[ 8  8  4  2 14]\n"
     ]
    },
    {
     "ename": "TypeError",
     "evalue": "'extract' is an invalid keyword argument for print()",
     "output_type": "error",
     "traceback": [
      "\u001b[1;31m---------------------------------------------------------------------------\u001b[0m",
      "\u001b[1;31mTypeError\u001b[0m                                 Traceback (most recent call last)",
      "\u001b[1;32m<ipython-input-59-886feb1910f1>\u001b[0m in \u001b[0;36m<module>\u001b[1;34m\u001b[0m\n\u001b[0;32m      5\u001b[0m \u001b[0mprint\u001b[0m\u001b[1;33m(\u001b[0m\u001b[0mextract\u001b[0m\u001b[1;33m)\u001b[0m\u001b[1;33m\u001b[0m\u001b[1;33m\u001b[0m\u001b[0m\n\u001b[0;32m      6\u001b[0m \u001b[1;33m\u001b[0m\u001b[0m\n\u001b[1;32m----> 7\u001b[1;33m \u001b[0mprint\u001b[0m\u001b[1;33m(\u001b[0m\u001b[0mextract\u001b[0m\u001b[1;33m=\u001b[0m\u001b[1;33m-\u001b[0m\u001b[1;36m7\u001b[0m\u001b[1;33m)\u001b[0m\u001b[1;33m\u001b[0m\u001b[1;33m\u001b[0m\u001b[0m\n\u001b[0m\u001b[0;32m      8\u001b[0m \u001b[1;33m\u001b[0m\u001b[0m\n",
      "\u001b[1;31mTypeError\u001b[0m: 'extract' is an invalid keyword argument for print()"
     ]
    }
   ],
   "source": [
    "m=np.random.randint(0,20,15)\n",
    "print(m)\n",
    "mask = m%2==0\n",
    "extract=m[mask]\n",
    "print(extract)\n",
    "\n",
    "#print(m[mask]=-7)\n",
    "\n"
   ]
  },
  {
   "cell_type": "markdown",
   "metadata": {},
   "source": [
    "# Iterating arrays"
   ]
  },
  {
   "cell_type": "code",
   "execution_count": 61,
   "metadata": {},
   "outputs": [
    {
     "name": "stdout",
     "output_type": "stream",
     "text": [
      "[11 12 13 14]\n",
      "[15 16 17 18]\n"
     ]
    }
   ],
   "source": [
    "import numpy as np\n",
    "i = np.array([[11,12,13,14],\n",
    "              [15,16,17,18]])\n",
    "for x in np.nditer(i[:,::2]): #prints elements one by one\n",
    "    print(x)\n",
    "#for x in i:\n",
    "#    print(x)"
   ]
  },
  {
   "cell_type": "markdown",
   "metadata": {},
   "source": [
    "# Enumeration(mentioning something in sequence)"
   ]
  },
  {
   "cell_type": "code",
   "execution_count": 11,
   "metadata": {},
   "outputs": [
    {
     "name": "stdout",
     "output_type": "stream",
     "text": [
      "(0,) 21\n",
      "(1,) 22\n",
      "(2,) 23\n"
     ]
    }
   ],
   "source": [
    "import numpy as np\n",
    "n = np.array([21,22,23])\n",
    "for idx,x in np.ndenumerate(n): # prints values with index\n",
    "    print(idx,x)"
   ]
  },
  {
   "cell_type": "markdown",
   "metadata": {},
   "source": [
    "# Concatenate"
   ]
  },
  {
   "cell_type": "code",
   "execution_count": 12,
   "metadata": {},
   "outputs": [
    {
     "name": "stdout",
     "output_type": "stream",
     "text": [
      "[1 2 3 4 5 6]\n"
     ]
    }
   ],
   "source": [
    "import numpy as np\n",
    "\n",
    "arr1 = np.array([1, 2, 3])\n",
    "arr2 = np.array([4, 5, 6])\n",
    "arr = np.concatenate((arr1, arr2))\n",
    "print(arr)"
   ]
  },
  {
   "cell_type": "markdown",
   "metadata": {},
   "source": [
    "# Stack"
   ]
  },
  {
   "cell_type": "code",
   "execution_count": 28,
   "metadata": {},
   "outputs": [
    {
     "name": "stdout",
     "output_type": "stream",
     "text": [
      "Stack: [[1 4]\n",
      " [2 5]\n",
      " [3 6]]\n",
      "Horizontal Stack: [1 2 3 4 5 6]\n",
      "Vertical Stack: [[1 2 3]\n",
      " [4 5 6]]\n",
      "Depth Stack: [[[1 4]\n",
      "  [2 5]\n",
      "  [3 6]]]\n"
     ]
    }
   ],
   "source": [
    "import numpy as np\n",
    "a1 = np.array([1, 2, 3])\n",
    "a2 = np.array([4, 5, 6])\n",
    "\n",
    "stack = np.stack((arr1, arr2), axis=1) # axis1 means rowwise\n",
    "print(\"Stack:\",stack)\n",
    "\n",
    "hstack = np.hstack((a1,a2))\n",
    "print(\"Horizontal Stack:\",hstack) #stack along rows\n",
    "\n",
    "vstack = np.vstack((a1,a2))\n",
    "print(\"Vertical Stack:\",vstack) #stack along columns\n",
    "\n",
    "dstack = np.dstack((a1,a2))\n",
    "print(\"Depth Stack:\",dstack) #stack along height"
   ]
  },
  {
   "cell_type": "markdown",
   "metadata": {},
   "source": [
    "# Split"
   ]
  },
  {
   "cell_type": "code",
   "execution_count": 29,
   "metadata": {},
   "outputs": [
    {
     "name": "stdout",
     "output_type": "stream",
     "text": [
      "[1 2]\n",
      "[3 4]\n",
      "[5 6]\n"
     ]
    }
   ],
   "source": [
    "import numpy as np\n",
    "\n",
    "arr = np.array([1, 2, 3, 4, 5, 6])\n",
    "\n",
    "newarr = np.array_split(arr, 3) # 3 is no of splits\n",
    "\n",
    "print(newarr[0])\n",
    "print(newarr[1])\n",
    "print(newarr[2])"
   ]
  },
  {
   "cell_type": "code",
   "execution_count": null,
   "metadata": {},
   "outputs": [],
   "source": [
    "import numpy as np\n",
    "\n",
    "arr = np.array([[1, 2, 3], [4, 5, 6], [7, 8, 9], [10, 11, 12], [13, 14, 15], [16, 17, 18]])\n",
    "\n",
    "newarr = np.hsplit(arr, 3)\n",
    "\n",
    "print(newarr)"
   ]
  },
  {
   "cell_type": "markdown",
   "metadata": {},
   "source": [
    "# where method"
   ]
  },
  {
   "cell_type": "code",
   "execution_count": null,
   "metadata": {},
   "outputs": [],
   "source": [
    "import numpy as np\n",
    "\n",
    "arr = np.array([1, 2, 3, 4, 5, 4, 4])\n",
    "x = np.where(arr == 4)\n",
    "print(x)"
   ]
  },
  {
   "cell_type": "markdown",
   "metadata": {},
   "source": [
    "# Search Sorted"
   ]
  },
  {
   "cell_type": "code",
   "execution_count": 30,
   "metadata": {},
   "outputs": [
    {
     "name": "stdout",
     "output_type": "stream",
     "text": [
      "2\n"
     ]
    }
   ],
   "source": [
    "import numpy as np\n",
    "\n",
    "arr = np.array([6, 7, 8, 9])\n",
    "x = np.searchsorted(arr, 7, side='right') #side='right' to return the right most index instead.\n",
    "print(x)"
   ]
  },
  {
   "cell_type": "markdown",
   "metadata": {},
   "source": [
    "# Sorting"
   ]
  },
  {
   "cell_type": "code",
   "execution_count": null,
   "metadata": {},
   "outputs": [],
   "source": [
    "import numpy as np\n",
    "arr = np.array([[3, 2, 4], [5, 0, 1]])\n",
    "print(np.sort(arr))"
   ]
  },
  {
   "cell_type": "markdown",
   "metadata": {},
   "source": [
    "# Filter"
   ]
  },
  {
   "cell_type": "code",
   "execution_count": 32,
   "metadata": {},
   "outputs": [
    {
     "name": "stdout",
     "output_type": "stream",
     "text": [
      "[41 43]\n"
     ]
    }
   ],
   "source": [
    "import numpy as np\n",
    "\n",
    "arr = np.array([41, 42, 43, 44])\n",
    "x = [True, False, True, False]\n",
    "newarr = arr[x]\n",
    "\n",
    "print(newarr)"
   ]
  },
  {
   "cell_type": "markdown",
   "metadata": {},
   "source": [
    "# Import CSV in NumPy"
   ]
  },
  {
   "cell_type": "code",
   "execution_count": 116,
   "metadata": {},
   "outputs": [
    {
     "name": "stdout",
     "output_type": "stream",
     "text": [
      "[['A' 'B' 'C' 'D']\n",
      " ['4' '8' '11' '45']\n",
      " ['5' '9' '12' '46']\n",
      " ['6' '10' '13' '47']\n",
      " ['7' '11' '14' '48']\n",
      " ['8' '12' '15' '49']\n",
      " ['9' '13' '16' '50']]\n"
     ]
    }
   ],
   "source": [
    "import csv\n",
    "data = []\n",
    "with open('demo.csv','r') as csvfile:\n",
    "    file_reader = csv.reader(csvfile,delimiter=',')\n",
    "    for row in file_reader:\n",
    "        data.append(row)\n",
    "data = np.array(data)\n",
    "print(data)"
   ]
  },
  {
   "cell_type": "code",
   "execution_count": 118,
   "metadata": {},
   "outputs": [
    {
     "name": "stdout",
     "output_type": "stream",
     "text": [
      "   A   B   C   D\n",
      "0  4   8  11  45\n",
      "1  5   9  12  46\n",
      "2  6  10  13  47\n",
      "3  7  11  14  48\n",
      "4  8  12  15  49\n",
      "5  9  13  16  50\n"
     ]
    }
   ],
   "source": [
    "import pandas as pd\n",
    "df = pd.read_csv('demo.csv')\n",
    "print(df)"
   ]
  },
  {
   "cell_type": "code",
   "execution_count": null,
   "metadata": {},
   "outputs": [],
   "source": []
  }
 ],
 "metadata": {
  "kernelspec": {
   "display_name": "Python 3",
   "language": "python",
   "name": "python3"
  },
  "language_info": {
   "codemirror_mode": {
    "name": "ipython",
    "version": 3
   },
   "file_extension": ".py",
   "mimetype": "text/x-python",
   "name": "python",
   "nbconvert_exporter": "python",
   "pygments_lexer": "ipython3",
   "version": "3.8.3"
  }
 },
 "nbformat": 4,
 "nbformat_minor": 4
}
